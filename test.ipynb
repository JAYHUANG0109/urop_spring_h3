{
 "cells": [
  {
   "cell_type": "code",
   "execution_count": 2,
   "metadata": {},
   "outputs": [
    {
     "ename": "ModuleNotFoundError",
     "evalue": "No module named 'h3'",
     "output_type": "error",
     "traceback": [
      "\u001b[0;31m---------------------------------------------------------------------------\u001b[0m",
      "\u001b[0;31mModuleNotFoundError\u001b[0m                       Traceback (most recent call last)",
      "Cell \u001b[0;32mIn[2], line 4\u001b[0m\n\u001b[1;32m      2\u001b[0m \u001b[38;5;28;01mimport\u001b[39;00m \u001b[38;5;21;01mnumpy\u001b[39;00m \u001b[38;5;28;01mas\u001b[39;00m \u001b[38;5;21;01mnp\u001b[39;00m\n\u001b[1;32m      3\u001b[0m \u001b[38;5;28;01mimport\u001b[39;00m \u001b[38;5;21;01msys\u001b[39;00m\n\u001b[0;32m----> 4\u001b[0m \u001b[38;5;28;01mimport\u001b[39;00m \u001b[38;5;21;01mh3\u001b[39;00m\n",
      "\u001b[0;31mModuleNotFoundError\u001b[0m: No module named 'h3'"
     ]
    }
   ],
   "source": [
    "import pandas as pd\n",
    "import numpy as np\n",
    "import sys\n",
    "import h3\n"
   ]
  },
  {
   "cell_type": "code",
   "execution_count": null,
   "metadata": {},
   "outputs": [],
   "source": []
  },
  {
   "cell_type": "code",
   "execution_count": 12,
   "metadata": {},
   "outputs": [
    {
     "name": "stdout",
     "output_type": "stream",
     "text": [
      "/Users/jayhuang0109/Desktop/CSL/urop_spring/urop_spring_h3/.venv/lib/python3.12/site-packages/h3/__init__.py\n"
     ]
    }
   ],
   "source": [
    "print(h3.__file__)"
   ]
  },
  {
   "cell_type": "code",
   "execution_count": 13,
   "metadata": {},
   "outputs": [
    {
     "name": "stdout",
     "output_type": "stream",
     "text": [
      "['H3BaseException', 'H3CellInvalidError', 'H3DirEdgeInvalidError', 'H3DomainError', 'H3DuplicateInputError', 'H3FailedError', 'H3GridNavigationError', 'H3LatLngDomainError', 'H3MemoryAllocError', 'H3MemoryBoundsError', 'H3MemoryError', 'H3NotNeighborsError', 'H3OptionInvalidError', 'H3PentagonError', 'H3ResDomainError', 'H3ResMismatchError', 'H3Shape', 'H3UndirEdgeInvalidError', 'H3ValueError', 'H3VertexInvalidError', 'LatLngMultiPoly', 'LatLngPoly', 'Literal', 'UnknownH3ErrorCode', '__builtins__', '__cached__', '__doc__', '__file__', '__loader__', '__name__', '__package__', '__path__', '__spec__', '__version__', '_cy', '_h3shape', '_version', 'api', 'are_neighbor_cells', 'average_hexagon_area', 'average_hexagon_edge_length', 'cell_area', 'cell_to_boundary', 'cell_to_center_child', 'cell_to_child_pos', 'cell_to_children', 'cell_to_children_size', 'cell_to_latlng', 'cell_to_local_ij', 'cell_to_parent', 'cell_to_vertex', 'cell_to_vertexes', 'cells_to_directed_edge', 'cells_to_geo', 'cells_to_h3shape', 'child_pos_to_cell', 'compact_cells', 'directed_edge_to_boundary', 'directed_edge_to_cells', 'edge_length', 'geo_to_cells', 'geo_to_h3shape', 'get_base_cell_number', 'get_directed_edge_destination', 'get_directed_edge_origin', 'get_icosahedron_faces', 'get_num_cells', 'get_pentagons', 'get_res0_cells', 'get_resolution', 'great_circle_distance', 'grid_disk', 'grid_distance', 'grid_path_cells', 'grid_ring', 'h3shape_to_cells', 'h3shape_to_cells_experimental', 'h3shape_to_geo', 'int_to_str', 'is_pentagon', 'is_res_class_III', 'is_valid_cell', 'is_valid_directed_edge', 'is_valid_vertex', 'latlng_to_cell', 'local_ij_to_cell', 'origin_to_directed_edges', 'polygon_to_cells', 'polygon_to_cells_experimental', 'str_to_int', 'uncompact_cells', 'versions', 'vertex_to_latlng']\n"
     ]
    }
   ],
   "source": [
    "print(dir(h3))"
   ]
  },
  {
   "cell_type": "code",
   "execution_count": 21,
   "metadata": {},
   "outputs": [],
   "source": [
    "lat = 37.7955\n",
    "lng = -122.3937\n",
    "resolution = 10"
   ]
  },
  {
   "cell_type": "code",
   "execution_count": 22,
   "metadata": {},
   "outputs": [
    {
     "name": "stdout",
     "output_type": "stream",
     "text": [
      "8a283082a677fff\n"
     ]
    }
   ],
   "source": [
    "a = h3.latlng_to_cell(lat, lng, resolution)\n",
    "print(a)"
   ]
  },
  {
   "cell_type": "code",
   "execution_count": 23,
   "metadata": {},
   "outputs": [
    {
     "name": "stdout",
     "output_type": "stream",
     "text": [
      "(37.795265568435134, -122.3939609288222)\n"
     ]
    }
   ],
   "source": [
    "b = h3.cell_to_latlng(a)\n",
    "print(b)"
   ]
  },
  {
   "cell_type": "code",
   "execution_count": 24,
   "metadata": {},
   "outputs": [
    {
     "name": "stdout",
     "output_type": "stream",
     "text": [
      "((37.79459532906907, -122.39375417406507), (37.79510140792508, -122.39311475203087), (37.795771646800766, -122.39332150452456), (37.79593580302987, -122.39416768597039), (37.795429721785204, -122.39480710366196), (37.7947594867001, -122.39460034425046))\n"
     ]
    }
   ],
   "source": [
    "c = h3.cell_to_boundary(a)\n",
    "print(c)"
   ]
  }
 ],
 "metadata": {
  "kernelspec": {
   "display_name": "Python 3",
   "language": "python",
   "name": "python3"
  },
  "language_info": {
   "codemirror_mode": {
    "name": "ipython",
    "version": 3
   },
   "file_extension": ".py",
   "mimetype": "text/x-python",
   "name": "python",
   "nbconvert_exporter": "python",
   "pygments_lexer": "ipython3",
   "version": "3.12.4"
  }
 },
 "nbformat": 4,
 "nbformat_minor": 2
}
